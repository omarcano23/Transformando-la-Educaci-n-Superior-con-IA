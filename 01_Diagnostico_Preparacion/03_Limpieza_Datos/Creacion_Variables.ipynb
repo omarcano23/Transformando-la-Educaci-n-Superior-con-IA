{
 "cells": [
  {
   "cell_type": "code",
   "execution_count": 2,
   "metadata": {},
   "outputs": [],
   "source": [
    "import pandas as pd\n",
    "import numpy as np\n",
    "import matplotlib.pyplot as plt\n",
    "from pyspark.sql import SparkSession\n",
    "from pyspark.sql.functions import concat, col, when, count, lit"
   ]
  },
  {
   "cell_type": "code",
   "execution_count": 3,
   "metadata": {},
   "outputs": [],
   "source": [
    "ruta = 'C:/Users/omarc/OneDrive/Escritorio/Proyectos VSC/OmarCano/Track Analítico UNI/05_Datos/02_Datos_Procesados'\n",
    "ruta2 = 'C:/Users/omarc/OneDrive/Escritorio/Proyectos VSC/OmarCano/Track Analítico UNI/05_Datos/01_Datos_Crudos'\n",
    "rutafin = 'C:/Users/omarc/OneDrive/Escritorio/Proyectos VSC/OmarCano/Track Analítico UNI/05_Datos/03_Datos_Finales'\n",
    "\n",
    "desertados_df = pd.read_csv(f'{ruta}/um_desercion.csv')\n",
    "cepre_df = pd.read_csv(f'{ruta}/hm_cepre_uni_limpio.csv')\n",
    "admisiones_df = pd.read_csv(f'{ruta}/hm_admisiones_uni_limpio.csv')\n",
    "matriculados_df = pd.read_csv(f'{ruta}/hm_matriculados_uni_limpio.csv')\n",
    "personas_df = pd.read_csv(f'{ruta2}/hm_personas_demo.csv')\n",
    "colegios_df = pd.read_csv(f'{ruta2}/hm_colegios.csv')"
   ]
  },
  {
   "cell_type": "code",
   "execution_count": 12,
   "metadata": {},
   "outputs": [],
   "source": [
    "personas_df\n",
    "personas_df.to_csv(f'{rutafin}/hm_personas_demo_final.csv', index=False)"
   ]
  },
  {
   "cell_type": "code",
   "execution_count": 10,
   "metadata": {},
   "outputs": [],
   "source": [
    "admisiones_df['CALIF_FINAL'] = pd.to_numeric(admisiones_df['CALIF_FINAL'], errors='coerce')\n",
    "\n",
    "admisiones_agrup_df = admisiones_df.groupby('IDHASH').agg(\n",
    "    MIN_CALIF_ADMIS=('CALIF_FINAL', 'min'),\n",
    "    MAX_CALIF_ADMIS=('CALIF_FINAL', 'max'),\n",
    "    PROM_CALIF_ADMIS=('CALIF_FINAL', 'mean'),\n",
    "    CANT_ADMIS=('IDHASH', 'count')\n",
    ").reset_index()\n",
    "\n",
    "admisiones_agrup_df.to_csv(f'{rutafin}/hm_mtz_admisiones_final.csv', index=False)"
   ]
  },
  {
   "cell_type": "code",
   "execution_count": 11,
   "metadata": {},
   "outputs": [],
   "source": [
    "cepre_agrup_df = cepre_df.groupby('IDHASH').agg(\n",
    "    MIN_CALIF_CEPRE=('CALIF_FINAL', 'min'),\n",
    "    MAX_CALIF_CEPRE=('CALIF_FINAL', 'max'),\n",
    "    PROM_CALIF_CEPRE=('CALIF_FINAL', 'mean'),\n",
    "    CANT_CEPRE=('IDHASH', 'count')\n",
    ").reset_index()\n",
    "\n",
    "cepre_agrup_df.to_csv(f'{rutafin}/hm_mtz_cepre_final.csv', index=False)"
   ]
  },
  {
   "cell_type": "code",
   "execution_count": 13,
   "metadata": {},
   "outputs": [],
   "source": [
    "desertados_df.columns = [col.upper() for col in desertados_df.columns]\n",
    "desertados_df.to_csv(f'{rutafin}/hm_desercion_final.csv', index=False)"
   ]
  },
  {
   "cell_type": "code",
   "execution_count": 16,
   "metadata": {},
   "outputs": [],
   "source": [
    "\n",
    "def categorizar_modalidad(modalidad):\n",
    "    if 'Terrorismo' in modalidad:\n",
    "        return 'Victimas del Terrorismo'\n",
    "    elif 'Escolar' in modalidad:\n",
    "        return 'Concurso Nacional Escolar'\n",
    "    elif 'Ingreso Directo' in modalidad:\n",
    "        return 'Ingreso Directo Cepre-Uni'\n",
    "    elif 'Titulados' in modalidad:\n",
    "        return 'Titulados o Graduados'\n",
    "    elif 'Deportistas Calificados' in modalidad:\n",
    "        return 'Deportistas Calificados'\n",
    "    elif 'Convenio' in modalidad:\n",
    "        return 'Convenios Especiales'\n",
    "    elif 'Diplomado' in modalidad:\n",
    "        return 'Diplomados con Bachillerato'\n",
    "    else:\n",
    "        return modalidad\n",
    "\n",
    "matriculados_df['MODALIDAD_AGRUP'] = matriculados_df['MODALIDAD'].apply(categorizar_modalidad)"
   ]
  },
  {
   "cell_type": "code",
   "execution_count": 18,
   "metadata": {},
   "outputs": [],
   "source": [
    "matriculados_df.columns = [col.upper() for col in matriculados_df.columns]\n",
    "matriculados_df.to_csv(f'{rutafin}/hm_matriculados_final.csv', index=False)"
   ]
  },
  {
   "cell_type": "code",
   "execution_count": 19,
   "metadata": {},
   "outputs": [],
   "source": [
    "matriculados_df = matriculados_df[['IDHASH','ANIO','PERIODO', 'TIPO_MATRICULA', \n",
    "                                   'DOMICILIO_DEPA', 'DOMICILIO_PROV', 'DOMICILIO_DIST',  \n",
    "                                   'MODALIDAD_AGRUP', 'METODOLOGIA', 'FACULTAD', 'ESPECIALIDAD',\n",
    "                                   'CICLO_RELATIVO', 'CODYEAR', 'EDAD', 'FLG_CAMBIO_CARRERA']]\n",
    "\n",
    "tablon_final_df = matriculados_df.merge(personas_df, on='IDHASH', how='left') \\\n",
    "                           .merge(desertados_df, on='IDHASH', how='left') \\\n",
    "                           .merge(admisiones_agrup_df, on='IDHASH', how='left') \\\n",
    "                           .merge(cepre_agrup_df, on='IDHASH', how='left')"
   ]
  },
  {
   "cell_type": "code",
   "execution_count": 20,
   "metadata": {},
   "outputs": [
    {
     "data": {
      "text/html": [
       "<div>\n",
       "<style scoped>\n",
       "    .dataframe tbody tr th:only-of-type {\n",
       "        vertical-align: middle;\n",
       "    }\n",
       "\n",
       "    .dataframe tbody tr th {\n",
       "        vertical-align: top;\n",
       "    }\n",
       "\n",
       "    .dataframe thead th {\n",
       "        text-align: right;\n",
       "    }\n",
       "</style>\n",
       "<table border=\"1\" class=\"dataframe\">\n",
       "  <thead>\n",
       "    <tr style=\"text-align: right;\">\n",
       "      <th></th>\n",
       "      <th>IDHASH_UNICOS</th>\n",
       "      <th>DESERTADOS</th>\n",
       "    </tr>\n",
       "    <tr>\n",
       "      <th>CODYEAR</th>\n",
       "      <th></th>\n",
       "      <th></th>\n",
       "    </tr>\n",
       "  </thead>\n",
       "  <tbody>\n",
       "    <tr>\n",
       "      <th>20161</th>\n",
       "      <td>10110</td>\n",
       "      <td>1154</td>\n",
       "    </tr>\n",
       "    <tr>\n",
       "      <th>20162</th>\n",
       "      <td>10023</td>\n",
       "      <td>1069</td>\n",
       "    </tr>\n",
       "    <tr>\n",
       "      <th>20171</th>\n",
       "      <td>11771</td>\n",
       "      <td>1178</td>\n",
       "    </tr>\n",
       "    <tr>\n",
       "      <th>20172</th>\n",
       "      <td>12262</td>\n",
       "      <td>1323</td>\n",
       "    </tr>\n",
       "    <tr>\n",
       "      <th>20181</th>\n",
       "      <td>11905</td>\n",
       "      <td>1045</td>\n",
       "    </tr>\n",
       "    <tr>\n",
       "      <th>20182</th>\n",
       "      <td>11250</td>\n",
       "      <td>834</td>\n",
       "    </tr>\n",
       "    <tr>\n",
       "      <th>20191</th>\n",
       "      <td>11765</td>\n",
       "      <td>1032</td>\n",
       "    </tr>\n",
       "    <tr>\n",
       "      <th>20192</th>\n",
       "      <td>12098</td>\n",
       "      <td>1000</td>\n",
       "    </tr>\n",
       "    <tr>\n",
       "      <th>20201</th>\n",
       "      <td>12211</td>\n",
       "      <td>972</td>\n",
       "    </tr>\n",
       "    <tr>\n",
       "      <th>20202</th>\n",
       "      <td>11323</td>\n",
       "      <td>885</td>\n",
       "    </tr>\n",
       "    <tr>\n",
       "      <th>20211</th>\n",
       "      <td>11337</td>\n",
       "      <td>884</td>\n",
       "    </tr>\n",
       "    <tr>\n",
       "      <th>20212</th>\n",
       "      <td>11228</td>\n",
       "      <td>892</td>\n",
       "    </tr>\n",
       "    <tr>\n",
       "      <th>20221</th>\n",
       "      <td>11123</td>\n",
       "      <td>807</td>\n",
       "    </tr>\n",
       "    <tr>\n",
       "      <th>20222</th>\n",
       "      <td>10428</td>\n",
       "      <td>697</td>\n",
       "    </tr>\n",
       "    <tr>\n",
       "      <th>20231</th>\n",
       "      <td>11119</td>\n",
       "      <td>632</td>\n",
       "    </tr>\n",
       "    <tr>\n",
       "      <th>20232</th>\n",
       "      <td>11016</td>\n",
       "      <td>336</td>\n",
       "    </tr>\n",
       "    <tr>\n",
       "      <th>20241</th>\n",
       "      <td>11420</td>\n",
       "      <td>0</td>\n",
       "    </tr>\n",
       "  </tbody>\n",
       "</table>\n",
       "</div>"
      ],
      "text/plain": [
       "         IDHASH_UNICOS  DESERTADOS\n",
       "CODYEAR                           \n",
       "20161            10110        1154\n",
       "20162            10023        1069\n",
       "20171            11771        1178\n",
       "20172            12262        1323\n",
       "20181            11905        1045\n",
       "20182            11250         834\n",
       "20191            11765        1032\n",
       "20192            12098        1000\n",
       "20201            12211         972\n",
       "20202            11323         885\n",
       "20211            11337         884\n",
       "20212            11228         892\n",
       "20221            11123         807\n",
       "20222            10428         697\n",
       "20231            11119         632\n",
       "20232            11016         336\n",
       "20241            11420           0"
      ]
     },
     "execution_count": 20,
     "metadata": {},
     "output_type": "execute_result"
    }
   ],
   "source": [
    "#tablon_final_df['IDHASH'].nunique()\n",
    "tablon_final_df[tablon_final_df['FLG_ESTUDIANTE'] == 1].groupby('CODYEAR').agg(\n",
    "    IDHASH_UNICOS=('IDHASH', 'nunique'),  \n",
    "    DESERTADOS=('DESERCIÓN', lambda x: (x == 1).sum())\n",
    ")"
   ]
  },
  {
   "cell_type": "code",
   "execution_count": 22,
   "metadata": {},
   "outputs": [
    {
     "data": {
      "text/plain": [
       "IDHASH                 100.000000\n",
       "ANIO                   100.000000\n",
       "PERIODO                100.000000\n",
       "TIPO_MATRICULA         100.000000\n",
       "DOMICILIO_DEPA          99.238522\n",
       "DOMICILIO_PROV          88.767029\n",
       "MODALIDAD_AGRUP        100.000000\n",
       "FACULTAD               100.000000\n",
       "CICLO_RELATIVO         100.000000\n",
       "CODYEAR                100.000000\n",
       "EDAD                   100.000000\n",
       "FLG_CAMBIO_CARRERA     100.000000\n",
       "COLEGIO_ANIO_EGRESO    100.000000\n",
       "ANIO_NACIMIENTO        100.000000\n",
       "SEXO                   100.000000\n",
       "FLG_ESTUDIANTE         100.000000\n",
       "DESERCIÓN              100.000000\n",
       "dtype: float64"
      ]
     },
     "execution_count": 22,
     "metadata": {},
     "output_type": "execute_result"
    }
   ],
   "source": [
    "variables_seleccionadas = [\n",
    "    'IDHASH', 'ANIO', 'PERIODO', 'TIPO_MATRICULA', 'DOMICILIO_DEPA',\n",
    "    'DOMICILIO_PROV', 'MODALIDAD_AGRUP', 'FACULTAD', 'CICLO_RELATIVO', 'CODYEAR', 'EDAD',\n",
    "    'FLG_CAMBIO_CARRERA', 'COLEGIO_ANIO_EGRESO', 'ANIO_NACIMIENTO',\n",
    "    'SEXO', 'FLG_ESTUDIANTE', 'DESERCIÓN'\n",
    "]\n",
    "\n",
    "# Filtrar las columnas seleccionadas en el dataframe\n",
    "filtered_df = tablon_final_df[variables_seleccionadas]\n",
    "\n",
    "# Calcular el fill rate para cada variable\n",
    "fill_rate = filtered_df.notnull().mean() * 100\n",
    "fill_rate"
   ]
  },
  {
   "cell_type": "code",
   "execution_count": 23,
   "metadata": {},
   "outputs": [],
   "source": [
    "tablon_final_df.to_csv(f'{rutafin}/tablon_final_df.csv', index=False)"
   ]
  }
 ],
 "metadata": {
  "kernelspec": {
   "display_name": "Python 3",
   "language": "python",
   "name": "python3"
  },
  "language_info": {
   "codemirror_mode": {
    "name": "ipython",
    "version": 3
   },
   "file_extension": ".py",
   "mimetype": "text/x-python",
   "name": "python",
   "nbconvert_exporter": "python",
   "pygments_lexer": "ipython3",
   "version": "3.12.2"
  }
 },
 "nbformat": 4,
 "nbformat_minor": 2
}
