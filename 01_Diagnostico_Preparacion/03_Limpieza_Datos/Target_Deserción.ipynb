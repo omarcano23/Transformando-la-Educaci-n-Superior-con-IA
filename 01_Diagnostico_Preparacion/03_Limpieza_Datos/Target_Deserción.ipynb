{
 "cells": [
  {
   "cell_type": "code",
   "execution_count": 1,
   "metadata": {},
   "outputs": [],
   "source": [
    "import pandas as pd\n",
    "import matplotlib.pyplot as plt\n",
    "from pyspark.sql import SparkSession\n",
    "from pyspark.sql.functions import concat, col, when, count, lit"
   ]
  },
  {
   "cell_type": "code",
   "execution_count": 138,
   "metadata": {},
   "outputs": [],
   "source": [
    "ruta = 'C:/Users/omarc/OneDrive/Escritorio/Proyectos VSC/OmarCano/Track Analítico UNI/05_Datos/02_Datos_Procesados'\n",
    "\n",
    "cepre_df = pd.read_csv(f'{ruta}/hm_cepre_uni_limpio.csv')\n",
    "admisiones_df = pd.read_csv(f'{ruta}/hm_admisiones_uni_limpio.csv')\n",
    "matriculados_df = pd.read_csv(f'{ruta}/hm_matriculados_uni_limpio.csv')"
   ]
  },
  {
   "cell_type": "code",
   "execution_count": 139,
   "metadata": {},
   "outputs": [],
   "source": [
    "matriculados_df['CodYear'] = matriculados_df['ANIO'] * 10 + matriculados_df['PERIODO']\n",
    "matriculados_df = matriculados_df.sort_values(by=['IDHASH', 'CodYear'])"
   ]
  },
  {
   "cell_type": "code",
   "execution_count": 140,
   "metadata": {},
   "outputs": [],
   "source": [
    "def calculate_metrics(df):\n",
    "    return df.groupby('IDHASH').agg(\n",
    "        min_CodYear=('CodYear', 'min'),\n",
    "        max_CodYear=('CodYear', 'max'),\n",
    "        max_CicloRelativo=('CICLO_RELATIVO', 'max'),\n",
    "        total_records=('CodYear', 'count')\n",
    "    ).reset_index()"
   ]
  },
  {
   "cell_type": "code",
   "execution_count": 172,
   "metadata": {},
   "outputs": [],
   "source": [
    "def determine_desercion(row, student_records, max_global_codyear):\n",
    "    all_years = set(range(row['min_CodYear'], max_global_codyear + 1))\n",
    "    existing_years = set(student_records['CodYear'])\n",
    "    \n",
    "    if row['max_CicloRelativo'] >= 8:\n",
    "        return \"Finalizó carrera\"\n",
    "    elif all_years.issubset(existing_years):\n",
    "        return \"Sigue estudiando\"\n",
    "    elif len(all_years.difference(existing_years)) > 0 and max(existing_years) == max_global_codyear:\n",
    "        return \"Retomó estudios\"\n",
    "    else:\n",
    "        return \"Desertó\""
   ]
  },
  {
   "cell_type": "code",
   "execution_count": 143,
   "metadata": {},
   "outputs": [],
   "source": [
    "def apply_desercion_logic(grouped, matriculados_df, max_global_codyear):\n",
    "    # Calcular métricas usando la función calculate_metrics\n",
    "    aux_df = calculate_metrics(matriculados_df)\n",
    "    \n",
    "    # Aplicar la lógica de deserción en una sola operación vectorizada\n",
    "    def vectorized_desercion(row):\n",
    "        student_records = matriculados_df[matriculados_df['IDHASH'] == row['IDHASH']]\n",
    "        return determine_desercion(row, student_records, max_global_codyear)\n",
    "\n",
    "    aux_df['Detalle'] = aux_df.apply(vectorized_desercion, axis=1)\n",
    "    aux_df['Deserción'] = aux_df['Detalle'].apply(lambda x: 0 if x != \"Desertó\" else 1)\n",
    "    \n",
    "    # Combinar el resultado con el DataFrame original\n",
    "    result_df = grouped.merge(aux_df[['IDHASH', 'Deserción', 'Detalle']], on='IDHASH', how='left')\n",
    "    \n",
    "    return result_df"
   ]
  },
  {
   "cell_type": "code",
   "execution_count": 161,
   "metadata": {},
   "outputs": [],
   "source": [
    "grouped = calculate_metrics(matriculados_df)"
   ]
  },
  {
   "cell_type": "code",
   "execution_count": null,
   "metadata": {},
   "outputs": [],
   "source": [
    "max_global_codyear = matriculados_df['CodYear'].max()\n",
    "grouped = apply_desercion_logic(grouped, matriculados_df, max_global_codyear)"
   ]
  },
  {
   "cell_type": "code",
   "execution_count": null,
   "metadata": {},
   "outputs": [],
   "source": [
    "unique_ids = matriculados_df['IDHASH'].unique()\n",
    "personas_df = pd.DataFrame({'IDHASH': unique_ids})"
   ]
  },
  {
   "cell_type": "code",
   "execution_count": null,
   "metadata": {},
   "outputs": [
    {
     "name": "stdout",
     "output_type": "stream",
     "text": [
      "                                                  IDHASH  Deserción  \\\n",
      "0      0002DF41C79D5E34153DB578014A6EADFF766488667DC3...          0   \n",
      "1      0003F425197CD03C452E4A0EFB8ED4652F6156127C910D...          0   \n",
      "2      0005769B3CA7B05EB2305248FE46234C4EB3ECC0934686...          0   \n",
      "3      000952F42F529EBAB64CED94AB833CBDFEBA505EBF9112...          0   \n",
      "4      0009AA652BEE77D36595E9D0CCE52094EE0C8D94202EEF...          0   \n",
      "...                                                  ...        ...   \n",
      "26915  FFE70F512709FB36AB7ACAF22E47FC72D45B2A06839154...          0   \n",
      "26916  FFEB63BEB596A5EC3C1FC6418AB245E5A1EC6FC8A820AD...          0   \n",
      "26917  FFF7BE3CEFD03FDC483D10DB6EC7D001D8996501D73290...          1   \n",
      "26918  FFFBF883BD33AADF02A659578A6FDBDE0C0C51E1641FE8...          0   \n",
      "26919  FFFF03197AE62EF69D51D7736AF55619467B7FFF91382C...          0   \n",
      "\n",
      "                   Detalle  \n",
      "0      Registros completos  \n",
      "1         Finalizó carrera  \n",
      "2         Finalizó carrera  \n",
      "3               Tomó pausa  \n",
      "4         Finalizó carrera  \n",
      "...                    ...  \n",
      "26915     Finalizó carrera  \n",
      "26916     Finalizó carrera  \n",
      "26917              Desertó  \n",
      "26918           Tomó pausa  \n",
      "26919           Tomó pausa  \n",
      "\n",
      "[26920 rows x 3 columns]\n"
     ]
    }
   ],
   "source": [
    "result_df = personas_df.merge(grouped[['IDHASH', 'Deserción', 'Detalle']], on='IDHASH', how='left')\n",
    "print(result_df)"
   ]
  },
  {
   "cell_type": "code",
   "execution_count": 165,
   "metadata": {},
   "outputs": [],
   "source": [
    "output_path_grouped = r'C:/Users/omarc/OneDrive/Escritorio/Proyectos VSC/OmarCano/Track Analítico UNI/05_Datos/02_Datos_Procesados/um_desercion.csv'\n",
    "grouped.to_csv(output_path_grouped, index=False)\n",
    "\n",
    "output_path_personas = r'C:/Users/omarc/OneDrive/Escritorio/Proyectos VSC/OmarCano/Track Analítico UNI/05_Datos/02_Datos_Procesados/um_personas.csv'\n",
    "personas_df.to_csv(output_path_personas, index=False)\n",
    "\n",
    "output_path_personas_desertadas = r'C:/Users/omarc/OneDrive/Escritorio/Proyectos VSC/OmarCano/Track Analítico UNI/05_Datos/02_Datos_Procesados/um_personas_desertadas.csv'\n",
    "result_df.to_csv(output_path_personas_desertadas, index=False)\n",
    "\n"
   ]
  }
 ],
 "metadata": {
  "kernelspec": {
   "display_name": "Python 3",
   "language": "python",
   "name": "python3"
  },
  "language_info": {
   "codemirror_mode": {
    "name": "ipython",
    "version": 3
   },
   "file_extension": ".py",
   "mimetype": "text/x-python",
   "name": "python",
   "nbconvert_exporter": "python",
   "pygments_lexer": "ipython3",
   "version": "3.12.2"
  }
 },
 "nbformat": 4,
 "nbformat_minor": 2
}
